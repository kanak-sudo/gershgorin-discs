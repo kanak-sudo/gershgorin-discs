{
 "cells": [
  {
   "cell_type": "code",
   "execution_count": 127,
   "id": "48e9108a",
   "metadata": {},
   "outputs": [],
   "source": [
    "import cmath\n",
    "import numpy as np\n",
    "import seaborn as sns\n",
    "import matplotlib.pyplot as plt\n",
    "import warnings\n",
    "warnings.filterwarnings(\"ignore\")"
   ]
  },
  {
   "cell_type": "code",
   "execution_count": 144,
   "id": "60d9da1c",
   "metadata": {},
   "outputs": [],
   "source": [
    "class gershgorin:\n",
    "    sns.set(style=\"darkgrid\")\n",
    "    def __init__(self):\n",
    "        pass\n",
    "    def radii(A):\n",
    "        Ap = abs(A)\n",
    "        radii = []\n",
    "        for i in range(len(A)):\n",
    "            radii.append(sum(Ap[i])-Ap[i,i])\n",
    "        return(radii)\n",
    "    def centers(A):\n",
    "        return(np.diag(A))\n",
    "    def circle(a,r):\n",
    "        theta = np.linspace(0,2*np.pi,1000,endpoint=False)\n",
    "        xvals = [r*np.cos(i)+a.real for i in theta]\n",
    "        yvals = [r*np.sin(i)+a.imag for i in theta]\n",
    "        pts = [complex(xvals[i],yvals[i]) for i in range(len(xvals))]\n",
    "        return(pts)\n",
    "    def evals(A):\n",
    "        return(np.linalg.eigvals(A))\n",
    "    def plot1(arr):\n",
    "        xvals = [i.real for i in arr]\n",
    "        yvals = [i.imag for i in arr]\n",
    "        sns.scatterplot(xvals,yvals, s=1)\n",
    "    def plot2(arr):\n",
    "        xvals = [i.real for i in arr]\n",
    "        yvals = [i.imag for i in arr]\n",
    "        sns.scatterplot(xvals,yvals,s=50,marker=\"+\")\n",
    "    def discs(A):\n",
    "        rad = gershgorin.radii(A)\n",
    "        cen = gershgorin.centers(A)\n",
    "        eig = gershgorin.evals(A) \n",
    "        for i in range(len(rad)):\n",
    "            gershgorin.plot1(gershgorin.circle(cen[i],rad[i]))\n",
    "            gershgorin.plot2(eig)"
   ]
  },
  {
   "cell_type": "code",
   "execution_count": 141,
   "id": "eb8b17a7",
   "metadata": {},
   "outputs": [
    {
     "data": {
      "text/plain": [
       "array([[ 10. ,  -1. ,   0. ,   1. ],\n",
       "       [  0.2,   8. ,   0.2,   0.2],\n",
       "       [  1. ,   1. ,   2. ,   1. ],\n",
       "       [ -1. ,  -1. ,  -1. , -11. ]])"
      ]
     },
     "execution_count": 141,
     "metadata": {},
     "output_type": "execute_result"
    }
   ],
   "source": [
    "A = np.array([[10,-1,0,1],[0.2,8,0.2,0.2],[1,1,2,1],[-1,-1,-1,-11]])\n",
    "A"
   ]
  },
  {
   "cell_type": "code",
   "execution_count": 146,
   "id": "d364fbdb",
   "metadata": {},
   "outputs": [
    {
     "data": {
      "text/plain": [
       "array([-10.86910166,   1.89948876,   9.82178844,   8.14782446])"
      ]
     },
     "execution_count": 146,
     "metadata": {},
     "output_type": "execute_result"
    }
   ],
   "source": [
    "gershgorin.evals(A)"
   ]
  },
  {
   "cell_type": "code",
   "execution_count": 148,
   "id": "b04ecc27",
   "metadata": {},
   "outputs": [
    {
     "data": {
      "text/plain": [
       "array([ 10.,   8.,   2., -11.])"
      ]
     },
     "execution_count": 148,
     "metadata": {},
     "output_type": "execute_result"
    }
   ],
   "source": [
    "gershgorin.centers(A)"
   ]
  },
  {
   "cell_type": "code",
   "execution_count": 149,
   "id": "d5d52b45",
   "metadata": {},
   "outputs": [
    {
     "data": {
      "text/plain": [
       "[2.0, 0.5999999999999979, 3.0, 3.0]"
      ]
     },
     "execution_count": 149,
     "metadata": {},
     "output_type": "execute_result"
    }
   ],
   "source": [
    "gershgorin.radii(A)"
   ]
  },
  {
   "cell_type": "code",
   "execution_count": 145,
   "id": "43115d1a",
   "metadata": {},
   "outputs": [
    {
     "data": {
      "image/png": "[encoded data removed]",
      "text/plain": [
       "<Figure size 360x360 with 1 Axes>"
      ]
     },
     "metadata": {},
     "output_type": "display_data"
    }
   ],
   "source": [
    "gershgorin.discs(A)"
   ]
  }
 ],
 "metadata": {
  "kernelspec": {
   "display_name": "Python 3",
   "language": "python",
   "name": "python3"
  },
  "language_info": {
   "codemirror_mode": {
    "name": "ipython",
    "version": 3
   },
   "file_extension": ".py",
   "mimetype": "text/x-python",
   "name": "python",
   "nbconvert_exporter": "python",
   "pygments_lexer": "ipython3",
   "version": "3.8.8"
  }
 },
 "nbformat": 4,
 "nbformat_minor": 5
}
